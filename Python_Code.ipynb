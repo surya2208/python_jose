{
  "cells": [
    {
      "cell_type": "code",
      "execution_count": null,
      "metadata": {
        "colab": {
          "base_uri": "https://localhost:8080/"
        },
        "id": "hEKzwtc5FKkG",
        "outputId": "25d31b76-73e8-4408-91a0-7ae283bb1461"
      },
      "outputs": [
        {
          "name": "stdout",
          "output_type": "stream",
          "text": [
            "Money is Cool\n"
          ]
        }
      ],
      "source": [
        "loc='Bank'\n",
        "\n",
        "if loc=='Auto Shop':\n",
        "    print(\"Cars are Cool\")\n",
        "elif loc=='Bank':\n",
        "    print(\"Money is Cool\")\n",
        "else:\n",
        "    print('I dono know much')"
      ]
    },
    {
      "cell_type": "code",
      "execution_count": null,
      "metadata": {
        "id": "6SGhwnYYFmcf"
      },
      "outputs": [],
      "source": []
    },
    {
      "cell_type": "code",
      "execution_count": null,
      "metadata": {
        "colab": {
          "base_uri": "https://localhost:8080/"
        },
        "id": "5tKE3D2vFufW",
        "outputId": "bfdd99d0-bbe6-4373-87f0-6235ac9d94e2"
      },
      "outputs": [
        {
          "name": "stdout",
          "output_type": "stream",
          "text": [
            "Cars are Cool\n"
          ]
        }
      ],
      "source": [
        "loc='Auto Shop'\n",
        "\n",
        "if loc=='Auto Shop':\n",
        "    print(\"Cars are Cool\")\n",
        "elif loc=='Bank':\n",
        "    print(\"Money is Cool\")\n",
        "elif loc=='Store':\n",
        "  print(\"Welcome to the Store\")\n",
        "else:\n",
        "    print('I dono know much')"
      ]
    },
    {
      "cell_type": "code",
      "execution_count": null,
      "metadata": {
        "colab": {
          "base_uri": "https://localhost:8080/"
        },
        "id": "RHZn8QNnH63Z",
        "outputId": "9f406ae6-bd1d-46ac-e796-d17daad9a807"
      },
      "outputs": [
        {
          "name": "stdout",
          "output_type": "stream",
          "text": [
            "Hello Sammy\n"
          ]
        }
      ],
      "source": [
        "name='Sammy'\n",
        "\n",
        "if name=='Frankie':\n",
        "  print(\"Hello Frankie\")\n",
        "elif name=='Sammy':\n",
        "  print(\"Hello Sammy\")\n",
        "else:\n",
        "  print(\"What is your name?\")"
      ]
    },
    {
      "cell_type": "markdown",
      "metadata": {
        "id": "eaZQmS6_I7wA"
      },
      "source": [
        "For Loop"
      ]
    },
    {
      "cell_type": "code",
      "execution_count": null,
      "metadata": {
        "colab": {
          "base_uri": "https://localhost:8080/"
        },
        "id": "WOVnPkmuI__j",
        "outputId": "f6852531-1b5a-44f7-9838-4c17225fff42"
      },
      "outputs": [
        {
          "name": "stdout",
          "output_type": "stream",
          "text": [
            "1\n",
            "2\n",
            "3\n",
            "4\n",
            "5\n",
            "6\n",
            "7\n",
            "8\n",
            "9\n",
            "10\n"
          ]
        }
      ],
      "source": [
        "mylist=[1,2,3,4,5,6,7,8,9,10]\n",
        "\n",
        "for num in mylist:\n",
        "    print(num)"
      ]
    },
    {
      "cell_type": "code",
      "execution_count": null,
      "metadata": {
        "colab": {
          "base_uri": "https://localhost:8080/"
        },
        "id": "5hT4TB34UR_N",
        "outputId": "f63d8f46-edcf-4914-a086-40537b6fcaad"
      },
      "outputs": [
        {
          "name": "stdout",
          "output_type": "stream",
          "text": [
            "1\n",
            "2\n",
            "3\n",
            "4\n",
            "5\n",
            "6\n",
            "7\n",
            "8\n",
            "9\n",
            "10\n"
          ]
        }
      ],
      "source": [
        "mylist=[1,2,3,4,5,6,7,8,9,10]\n",
        "\n",
        "for i in mylist:\n",
        "    print(i)"
      ]
    },
    {
      "cell_type": "code",
      "execution_count": null,
      "metadata": {
        "colab": {
          "base_uri": "https://localhost:8080/"
        },
        "id": "ne_rw05ZV6Ly",
        "outputId": "980782d6-9cd1-4820-dd3f-7b279dd00405"
      },
      "outputs": [
        {
          "name": "stdout",
          "output_type": "stream",
          "text": [
            "2\n",
            "4\n",
            "6\n",
            "8\n",
            "10\n"
          ]
        }
      ],
      "source": [
        "mylist=[1,2,3,4,5,6,7,8,9,10]\n",
        "\n",
        "for num in mylist:\n",
        "    if num%2==0:\n",
        "        print(num)"
      ]
    },
    {
      "cell_type": "code",
      "execution_count": null,
      "metadata": {
        "colab": {
          "base_uri": "https://localhost:8080/"
        },
        "id": "5C_ncnL_Vsp0",
        "outputId": "a3eb17a6-c1d8-42f0-fd1c-279135a67588"
      },
      "outputs": [
        {
          "name": "stdout",
          "output_type": "stream",
          "text": [
            "1 Number is odd\n",
            "2 Number is even\n",
            "3 Number is odd\n",
            "4 Number is even\n",
            "5 Number is odd\n",
            "6 Number is even\n",
            "7 Number is odd\n",
            "8 Number is even\n",
            "9 Number is odd\n",
            "10 Number is even\n"
          ]
        }
      ],
      "source": [
        "mylist=[1,2,3,4,5,6,7,8,9,10]\n",
        "\n",
        "for num in mylist:\n",
        "    if num%2==0:\n",
        "        print(num, \"Number is even\")\n",
        "    else:\n",
        "        print(num, \"Number is odd\")"
      ]
    },
    {
      "cell_type": "code",
      "execution_count": null,
      "metadata": {
        "colab": {
          "base_uri": "https://localhost:8080/"
        },
        "id": "d8wCpNCDq5R9",
        "outputId": "b86767b9-1fda-4564-df28-b04eb4706d42"
      },
      "outputs": [
        {
          "name": "stdout",
          "output_type": "stream",
          "text": [
            "H\n",
            "e\n",
            "l\n",
            "l\n",
            "o\n",
            " \n",
            "w\n",
            "o\n",
            "r\n",
            "l\n",
            "d\n"
          ]
        }
      ],
      "source": [
        "mystring='Hello world'\n",
        "\n",
        "for letter in mystring:\n",
        "  print(letter)"
      ]
    },
    {
      "cell_type": "markdown",
      "metadata": {
        "id": "jucMHhwe0MOJ"
      },
      "source": [
        "Tuple Unpacking"
      ]
    },
    {
      "cell_type": "code",
      "execution_count": null,
      "metadata": {
        "colab": {
          "base_uri": "https://localhost:8080/"
        },
        "id": "Qc4nCrdd0SQT",
        "outputId": "ef64ac6b-48da-4da7-b200-7c5d50a55bcf"
      },
      "outputs": [
        {
          "name": "stdout",
          "output_type": "stream",
          "text": [
            "1\n",
            "2\n",
            "3\n",
            "4\n",
            "5\n",
            "6\n",
            "7\n",
            "8\n"
          ]
        }
      ],
      "source": [
        "mylist=[(1,2),(3,4),(5,6),(7,8)]\n",
        "\n",
        "for a,b in mylist:\n",
        "  print(a)\n",
        "  print(b)"
      ]
    },
    {
      "cell_type": "code",
      "execution_count": null,
      "metadata": {
        "colab": {
          "base_uri": "https://localhost:8080/"
        },
        "id": "R97P5LlH2P7C",
        "outputId": "24423070-aaa0-487f-a0cd-ecc4587e3568"
      },
      "outputs": [
        {
          "name": "stdout",
          "output_type": "stream",
          "text": [
            "1\n",
            "2\n",
            "3\n",
            "4\n",
            "5\n",
            "6\n",
            "7\n",
            "8\n",
            "9\n"
          ]
        }
      ],
      "source": [
        "mylist=[(1,2,3),(4,5,6),(7,8,9)]\n",
        "for a,b,c in mylist:\n",
        "  print(a)\n",
        "  print(b)\n",
        "  print(c)"
      ]
    },
    {
      "cell_type": "markdown",
      "metadata": {
        "id": "IRKB8NvrDpVV"
      },
      "source": [
        "When you iterate through dictionary, you only iterate through keys:"
      ]
    },
    {
      "cell_type": "code",
      "execution_count": null,
      "metadata": {
        "colab": {
          "base_uri": "https://localhost:8080/"
        },
        "id": "aWi7MMxiD0vN",
        "outputId": "e2e28777-835e-4d74-e8db-8044ffc83203"
      },
      "outputs": [
        {
          "name": "stdout",
          "output_type": "stream",
          "text": [
            "k1\n",
            "k2\n",
            "k3\n"
          ]
        }
      ],
      "source": [
        "d={'k1':1, 'k2':2,'k3':3}\n",
        "\n",
        "for item in d:\n",
        "    print(item)"
      ]
    },
    {
      "cell_type": "markdown",
      "metadata": {
        "id": "pn3jUA9TEpas"
      },
      "source": [
        "If you want to iterate through values"
      ]
    },
    {
      "cell_type": "code",
      "execution_count": null,
      "metadata": {
        "colab": {
          "base_uri": "https://localhost:8080/"
        },
        "id": "-Ekdm6WyEw0f",
        "outputId": "d771f3fc-88b8-4d18-a222-507594b60a10"
      },
      "outputs": [
        {
          "name": "stdout",
          "output_type": "stream",
          "text": [
            "('k1', 1)\n",
            "('k2', 2)\n",
            "('k3', 3)\n"
          ]
        }
      ],
      "source": [
        "d={'k1':1, 'k2':2,'k3':3}\n",
        "\n",
        "for item in d.items():\n",
        "    print(item)"
      ]
    },
    {
      "cell_type": "markdown",
      "metadata": {
        "id": "uMvUu1NDGeln"
      },
      "source": [
        "While loops"
      ]
    },
    {
      "cell_type": "code",
      "execution_count": null,
      "metadata": {
        "id": "lJbauMUGGilX"
      },
      "outputs": [],
      "source": [
        "x=0\n",
        "\n",
        "while x<5:\n",
        "    print(f'The current value of x is {x}')\n",
        "    x=x+1"
      ]
    },
    {
      "cell_type": "markdown",
      "metadata": {
        "id": "fuViPbsKOvk2"
      },
      "source": [
        "Break, Continue, Pass"
      ]
    },
    {
      "cell_type": "code",
      "execution_count": null,
      "metadata": {
        "colab": {
          "base_uri": "https://localhost:8080/"
        },
        "id": "zUZkFZWjO2eR",
        "outputId": "3440a702-89c8-4b43-f5dc-da9d1deebaea"
      },
      "outputs": [
        {
          "name": "stdout",
          "output_type": "stream",
          "text": [
            "end of the script\n"
          ]
        }
      ],
      "source": [
        "x=[1,2,3]\n",
        "\n",
        "for item in x:\n",
        "  #comment\n",
        "  pass\n",
        "\n",
        "print('end of the script')"
      ]
    },
    {
      "cell_type": "markdown",
      "metadata": {
        "id": "ENdN4qwBRkyt"
      },
      "source": [
        "Continue - I don't want to print a in sammy"
      ]
    },
    {
      "cell_type": "code",
      "execution_count": null,
      "metadata": {
        "colab": {
          "base_uri": "https://localhost:8080/"
        },
        "id": "uUj6IhK7RjSC",
        "outputId": "4c1f770f-9308-4e91-ffbe-0df399ae66d2"
      },
      "outputs": [
        {
          "name": "stdout",
          "output_type": "stream",
          "text": [
            "s\n",
            "m\n",
            "m\n",
            "y\n"
          ]
        }
      ],
      "source": [
        "mystring='sammy'\n",
        "\n",
        "for letter in mystring:\n",
        "  if letter=='a':\n",
        "    continue\n",
        "\n",
        "  print(letter)\n"
      ]
    },
    {
      "cell_type": "markdown",
      "metadata": {
        "id": "0pLpPX2DsDlt"
      },
      "source": [
        "string "
      ]
    },
    {
      "cell_type": "code",
      "execution_count": null,
      "metadata": {
        "colab": {
          "base_uri": "https://localhost:8080/"
        },
        "id": "Brzl2N_wsHEx",
        "outputId": "14a7228a-d93e-407f-cb31-edb49ce34bc7"
      },
      "outputs": [
        {
          "name": "stdout",
          "output_type": "stream",
          "text": [
            "hello \n",
            " world\n"
          ]
        }
      ],
      "source": [
        "print(\"hello \\n world\")"
      ]
    },
    {
      "cell_type": "markdown",
      "metadata": {
        "id": "mEqFUcG7twVo"
      },
      "source": [
        "Slicing and indexing in String"
      ]
    },
    {
      "cell_type": "code",
      "execution_count": null,
      "metadata": {
        "colab": {
          "base_uri": "https://localhost:8080/",
          "height": 35
        },
        "id": "BRe8KUTdt0vh",
        "outputId": "8e727f6b-795c-4d9f-a803-569fa7e65d58"
      },
      "outputs": [
        {
          "data": {
            "application/vnd.google.colaboratory.intrinsic+json": {
              "type": "string"
            },
            "text/plain": [
              "'H'"
            ]
          },
          "execution_count": 2,
          "metadata": {},
          "output_type": "execute_result"
        }
      ],
      "source": [
        "mystring='Hello World'\n",
        "mystring[0]"
      ]
    },
    {
      "cell_type": "code",
      "execution_count": null,
      "metadata": {
        "colab": {
          "base_uri": "https://localhost:8080/"
        },
        "id": "c9orrkeBufmK",
        "outputId": "9147e1aa-764a-4b3f-821a-00e22af66dd4"
      },
      "outputs": [
        {
          "data": {
            "text/plain": [
              "11"
            ]
          },
          "execution_count": 3,
          "metadata": {},
          "output_type": "execute_result"
        }
      ],
      "source": [
        "len(mystring)"
      ]
    },
    {
      "cell_type": "code",
      "execution_count": null,
      "metadata": {
        "colab": {
          "base_uri": "https://localhost:8080/",
          "height": 35
        },
        "id": "HfAb45okuoRL",
        "outputId": "86b44734-abd3-40ae-ed31-78e280a9e703"
      },
      "outputs": [
        {
          "data": {
            "application/vnd.google.colaboratory.intrinsic+json": {
              "type": "string"
            },
            "text/plain": [
              "'H'"
            ]
          },
          "execution_count": 5,
          "metadata": {},
          "output_type": "execute_result"
        }
      ],
      "source": [
        "mystring[-11]"
      ]
    },
    {
      "cell_type": "code",
      "execution_count": null,
      "metadata": {
        "id": "XuLwrDd3vJGd"
      },
      "outputs": [],
      "source": [
        "mystring='abcdefghijk'"
      ]
    },
    {
      "cell_type": "code",
      "execution_count": null,
      "metadata": {
        "colab": {
          "base_uri": "https://localhost:8080/",
          "height": 35
        },
        "id": "1uD-xgvsvg5X",
        "outputId": "6692043c-9cde-494d-8213-02cc48bb5e2e"
      },
      "outputs": [
        {
          "data": {
            "application/vnd.google.colaboratory.intrinsic+json": {
              "type": "string"
            },
            "text/plain": [
              "'cdefghijk'"
            ]
          },
          "execution_count": 7,
          "metadata": {},
          "output_type": "execute_result"
        }
      ],
      "source": [
        "mystring[2:]"
      ]
    },
    {
      "cell_type": "code",
      "execution_count": null,
      "metadata": {
        "id": "YIVPX7Fwvt8f"
      },
      "outputs": [],
      "source": []
    },
    {
      "cell_type": "code",
      "execution_count": null,
      "metadata": {
        "colab": {
          "base_uri": "https://localhost:8080/",
          "height": 35
        },
        "id": "jB0QKzJBzg8l",
        "outputId": "15436837-e959-4c96-de78-07bde9d98bf6"
      },
      "outputs": [
        {
          "data": {
            "application/vnd.google.colaboratory.intrinsic+json": {
              "type": "string"
            },
            "text/plain": [
              "'Hello Worldit is bestiful outside'"
            ]
          },
          "execution_count": 8,
          "metadata": {},
          "output_type": "execute_result"
        }
      ],
      "source": [
        "x='Hello World'\n",
        "x+\"it is bestiful outside\""
      ]
    },
    {
      "cell_type": "code",
      "execution_count": null,
      "metadata": {
        "id": "VA0QLDXS1pLA"
      },
      "outputs": [],
      "source": [
        "x='Hello World'\n"
      ]
    },
    {
      "cell_type": "code",
      "execution_count": null,
      "metadata": {
        "colab": {
          "base_uri": "https://localhost:8080/",
          "height": 35
        },
        "id": "BwNNCs9K14RV",
        "outputId": "eecf5ee9-4bb3-4ab2-906e-33ea7df5c83e"
      },
      "outputs": [
        {
          "data": {
            "application/vnd.google.colaboratory.intrinsic+json": {
              "type": "string"
            },
            "text/plain": [
              "'HELLO WORLD'"
            ]
          },
          "execution_count": 10,
          "metadata": {},
          "output_type": "execute_result"
        }
      ],
      "source": [
        "x.upper()"
      ]
    },
    {
      "cell_type": "markdown",
      "metadata": {
        "id": "bMOCyBAZH7fa"
      },
      "source": [
        "11:14PM 08/Feb"
      ]
    },
    {
      "cell_type": "code",
      "execution_count": null,
      "metadata": {
        "id": "CcUxn7unIviy"
      },
      "outputs": [],
      "source": [
        "name = 'sam'\n",
        "#change into pam\n",
        "last_name= name[1:]\n",
        "name='p'+last_name"
      ]
    },
    {
      "cell_type": "code",
      "execution_count": null,
      "metadata": {
        "colab": {
          "base_uri": "https://localhost:8080/",
          "height": 35
        },
        "id": "kj6cF4-LKLkc",
        "outputId": "be1d002a-17c3-4bdf-f4ba-b1200774e376"
      },
      "outputs": [
        {
          "data": {
            "application/vnd.google.colaboratory.intrinsic+json": {
              "type": "string"
            },
            "text/plain": [
              "'pam'"
            ]
          },
          "execution_count": 4,
          "metadata": {},
          "output_type": "execute_result"
        }
      ],
      "source": [
        "name"
      ]
    },
    {
      "cell_type": "code",
      "execution_count": null,
      "metadata": {},
      "outputs": [],
      "source": [
        "magicians = ['alice', 'david', 'carolina']"
      ]
    }
  ],
  "metadata": {
    "colab": {
      "provenance": []
    },
    "kernelspec": {
      "display_name": "Python 3",
      "language": "python",
      "name": "python3"
    },
    "language_info": {
      "name": "python",
      "version": "3.10.10"
    },
    "vscode": {
      "interpreter": {
        "hash": "0f4ae5743a3c975258dd28a1e83587b05345ccc825b0fe1b5846a6cb0700706e"
      }
    }
  },
  "nbformat": 4,
  "nbformat_minor": 0
}
