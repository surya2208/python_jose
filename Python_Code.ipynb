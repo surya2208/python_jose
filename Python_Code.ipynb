{
  "nbformat": 4,
  "nbformat_minor": 0,
  "metadata": {
    "colab": {
      "provenance": []
    },
    "kernelspec": {
      "name": "python3",
      "display_name": "Python 3"
    },
    "language_info": {
      "name": "python"
    }
  },
  "cells": [
    {
      "cell_type": "code",
      "source": [
        "loc='Bank'\n",
        "\n",
        "if loc=='Auto Shop':\n",
        "    print(\"Cars are Cool\")\n",
        "elif loc=='Bank':\n",
        "    print(\"Money is Cool\")\n",
        "else:\n",
        "    print('I dono know much')"
      ],
      "metadata": {
        "colab": {
          "base_uri": "https://localhost:8080/"
        },
        "id": "hEKzwtc5FKkG",
        "outputId": "25d31b76-73e8-4408-91a0-7ae283bb1461"
      },
      "execution_count": null,
      "outputs": [
        {
          "output_type": "stream",
          "name": "stdout",
          "text": [
            "Money is Cool\n"
          ]
        }
      ]
    },
    {
      "cell_type": "code",
      "source": [],
      "metadata": {
        "id": "6SGhwnYYFmcf"
      },
      "execution_count": null,
      "outputs": []
    },
    {
      "cell_type": "code",
      "source": [
        "loc='Auto Shop'\n",
        "\n",
        "if loc=='Auto Shop':\n",
        "    print(\"Cars are Cool\")\n",
        "elif loc=='Bank':\n",
        "    print(\"Money is Cool\")\n",
        "elif loc=='Store':\n",
        "  print(\"Welcome to the Store\")\n",
        "else:\n",
        "    print('I dono know much')"
      ],
      "metadata": {
        "colab": {
          "base_uri": "https://localhost:8080/"
        },
        "outputId": "bfdd99d0-bbe6-4373-87f0-6235ac9d94e2",
        "id": "5tKE3D2vFufW"
      },
      "execution_count": null,
      "outputs": [
        {
          "output_type": "stream",
          "name": "stdout",
          "text": [
            "Cars are Cool\n"
          ]
        }
      ]
    },
    {
      "cell_type": "code",
      "source": [
        "name='Sammy'\n",
        "\n",
        "if name=='Frankie':\n",
        "  print(\"Hello Frankie\")\n",
        "elif name=='Sammy':\n",
        "  print(\"Hello Sammy\")\n",
        "else:\n",
        "  print(\"What is your name?\")"
      ],
      "metadata": {
        "colab": {
          "base_uri": "https://localhost:8080/"
        },
        "id": "RHZn8QNnH63Z",
        "outputId": "9f406ae6-bd1d-46ac-e796-d17daad9a807"
      },
      "execution_count": null,
      "outputs": [
        {
          "output_type": "stream",
          "name": "stdout",
          "text": [
            "Hello Sammy\n"
          ]
        }
      ]
    },
    {
      "cell_type": "markdown",
      "source": [
        "For Loop"
      ],
      "metadata": {
        "id": "eaZQmS6_I7wA"
      }
    },
    {
      "cell_type": "code",
      "source": [
        "mylist=[1,2,3,4,5,6,7,8,9,10]\n",
        "\n",
        "for num in mylist:\n",
        "    print(num)"
      ],
      "metadata": {
        "id": "WOVnPkmuI__j",
        "colab": {
          "base_uri": "https://localhost:8080/"
        },
        "outputId": "f6852531-1b5a-44f7-9838-4c17225fff42"
      },
      "execution_count": null,
      "outputs": [
        {
          "output_type": "stream",
          "name": "stdout",
          "text": [
            "1\n",
            "2\n",
            "3\n",
            "4\n",
            "5\n",
            "6\n",
            "7\n",
            "8\n",
            "9\n",
            "10\n"
          ]
        }
      ]
    },
    {
      "cell_type": "code",
      "source": [
        "mylist=[1,2,3,4,5,6,7,8,9,10]\n",
        "\n",
        "for i in mylist:\n",
        "    print(i)"
      ],
      "metadata": {
        "colab": {
          "base_uri": "https://localhost:8080/"
        },
        "id": "5hT4TB34UR_N",
        "outputId": "f63d8f46-edcf-4914-a086-40537b6fcaad"
      },
      "execution_count": null,
      "outputs": [
        {
          "output_type": "stream",
          "name": "stdout",
          "text": [
            "1\n",
            "2\n",
            "3\n",
            "4\n",
            "5\n",
            "6\n",
            "7\n",
            "8\n",
            "9\n",
            "10\n"
          ]
        }
      ]
    },
    {
      "cell_type": "code",
      "source": [
        "mylist=[1,2,3,4,5,6,7,8,9,10]\n",
        "\n",
        "for num in mylist:\n",
        "    if num%2==0:\n",
        "        print(num)"
      ],
      "metadata": {
        "colab": {
          "base_uri": "https://localhost:8080/"
        },
        "id": "ne_rw05ZV6Ly",
        "outputId": "980782d6-9cd1-4820-dd3f-7b279dd00405"
      },
      "execution_count": null,
      "outputs": [
        {
          "output_type": "stream",
          "name": "stdout",
          "text": [
            "2\n",
            "4\n",
            "6\n",
            "8\n",
            "10\n"
          ]
        }
      ]
    },
    {
      "cell_type": "code",
      "source": [
        "mylist=[1,2,3,4,5,6,7,8,9,10]\n",
        "\n",
        "for num in mylist:\n",
        "    if num%2==0:\n",
        "        print(num, \"Number is even\")\n",
        "    else:\n",
        "        print(num, \"Number is odd\")"
      ],
      "metadata": {
        "colab": {
          "base_uri": "https://localhost:8080/"
        },
        "id": "5C_ncnL_Vsp0",
        "outputId": "a3eb17a6-c1d8-42f0-fd1c-279135a67588"
      },
      "execution_count": null,
      "outputs": [
        {
          "output_type": "stream",
          "name": "stdout",
          "text": [
            "1 Number is odd\n",
            "2 Number is even\n",
            "3 Number is odd\n",
            "4 Number is even\n",
            "5 Number is odd\n",
            "6 Number is even\n",
            "7 Number is odd\n",
            "8 Number is even\n",
            "9 Number is odd\n",
            "10 Number is even\n"
          ]
        }
      ]
    },
    {
      "cell_type": "code",
      "source": [
        "mystring='Hello world'\n",
        "\n",
        "for letter in mystring:\n",
        "  print(letter)"
      ],
      "metadata": {
        "id": "d8wCpNCDq5R9",
        "colab": {
          "base_uri": "https://localhost:8080/"
        },
        "outputId": "b86767b9-1fda-4564-df28-b04eb4706d42"
      },
      "execution_count": null,
      "outputs": [
        {
          "output_type": "stream",
          "name": "stdout",
          "text": [
            "H\n",
            "e\n",
            "l\n",
            "l\n",
            "o\n",
            " \n",
            "w\n",
            "o\n",
            "r\n",
            "l\n",
            "d\n"
          ]
        }
      ]
    },
    {
      "cell_type": "markdown",
      "source": [
        "Tuple Unpacking"
      ],
      "metadata": {
        "id": "jucMHhwe0MOJ"
      }
    },
    {
      "cell_type": "code",
      "source": [
        "mylist=[(1,2),(3,4),(5,6),(7,8)]\n",
        "\n",
        "for a,b in mylist:\n",
        "  print(a)\n",
        "  print(b)"
      ],
      "metadata": {
        "colab": {
          "base_uri": "https://localhost:8080/"
        },
        "id": "Qc4nCrdd0SQT",
        "outputId": "ef64ac6b-48da-4da7-b200-7c5d50a55bcf"
      },
      "execution_count": null,
      "outputs": [
        {
          "output_type": "stream",
          "name": "stdout",
          "text": [
            "1\n",
            "2\n",
            "3\n",
            "4\n",
            "5\n",
            "6\n",
            "7\n",
            "8\n"
          ]
        }
      ]
    },
    {
      "cell_type": "code",
      "source": [
        "mylist=[(1,2,3),(4,5,6),(7,8,9)]\n",
        "for a,b,c in mylist:\n",
        "  print(a)\n",
        "  print(b)\n",
        "  print(c)"
      ],
      "metadata": {
        "colab": {
          "base_uri": "https://localhost:8080/"
        },
        "id": "R97P5LlH2P7C",
        "outputId": "24423070-aaa0-487f-a0cd-ecc4587e3568"
      },
      "execution_count": null,
      "outputs": [
        {
          "output_type": "stream",
          "name": "stdout",
          "text": [
            "1\n",
            "2\n",
            "3\n",
            "4\n",
            "5\n",
            "6\n",
            "7\n",
            "8\n",
            "9\n"
          ]
        }
      ]
    },
    {
      "cell_type": "markdown",
      "source": [
        "When you iterate through dictionary, you only iterate through keys:"
      ],
      "metadata": {
        "id": "IRKB8NvrDpVV"
      }
    },
    {
      "cell_type": "code",
      "source": [
        "d={'k1':1, 'k2':2,'k3':3}\n",
        "\n",
        "for item in d:\n",
        "    print(item)"
      ],
      "metadata": {
        "colab": {
          "base_uri": "https://localhost:8080/"
        },
        "id": "aWi7MMxiD0vN",
        "outputId": "e2e28777-835e-4d74-e8db-8044ffc83203"
      },
      "execution_count": null,
      "outputs": [
        {
          "output_type": "stream",
          "name": "stdout",
          "text": [
            "k1\n",
            "k2\n",
            "k3\n"
          ]
        }
      ]
    },
    {
      "cell_type": "markdown",
      "source": [
        "If you want to iterate through values"
      ],
      "metadata": {
        "id": "pn3jUA9TEpas"
      }
    },
    {
      "cell_type": "code",
      "source": [
        "d={'k1':1, 'k2':2,'k3':3}\n",
        "\n",
        "for item in d.items():\n",
        "    print(item)"
      ],
      "metadata": {
        "colab": {
          "base_uri": "https://localhost:8080/"
        },
        "id": "-Ekdm6WyEw0f",
        "outputId": "d771f3fc-88b8-4d18-a222-507594b60a10"
      },
      "execution_count": null,
      "outputs": [
        {
          "output_type": "stream",
          "name": "stdout",
          "text": [
            "('k1', 1)\n",
            "('k2', 2)\n",
            "('k3', 3)\n"
          ]
        }
      ]
    },
    {
      "cell_type": "markdown",
      "source": [
        "While loops"
      ],
      "metadata": {
        "id": "uMvUu1NDGeln"
      }
    },
    {
      "cell_type": "code",
      "source": [
        "x=0\n",
        "\n",
        "while x<5:\n",
        "    print(f'The current value of x is {x}')\n",
        "    x=x+1"
      ],
      "metadata": {
        "id": "lJbauMUGGilX"
      },
      "execution_count": null,
      "outputs": []
    },
    {
      "cell_type": "markdown",
      "source": [
        "Break, Continue, Pass"
      ],
      "metadata": {
        "id": "fuViPbsKOvk2"
      }
    },
    {
      "cell_type": "code",
      "source": [
        "x=[1,2,3]\n",
        "\n",
        "for item in x:\n",
        "  #comment\n",
        "  pass\n",
        "\n",
        "print('end of the script')"
      ],
      "metadata": {
        "colab": {
          "base_uri": "https://localhost:8080/"
        },
        "id": "zUZkFZWjO2eR",
        "outputId": "3440a702-89c8-4b43-f5dc-da9d1deebaea"
      },
      "execution_count": null,
      "outputs": [
        {
          "output_type": "stream",
          "name": "stdout",
          "text": [
            "end of the script\n"
          ]
        }
      ]
    },
    {
      "cell_type": "markdown",
      "source": [
        "Continue - I don't want to print a in sammy"
      ],
      "metadata": {
        "id": "ENdN4qwBRkyt"
      }
    },
    {
      "cell_type": "code",
      "source": [
        "mystring='sammy'\n",
        "\n",
        "for letter in mystring:\n",
        "  if letter=='a':\n",
        "    continue\n",
        "\n",
        "  print(letter)\n"
      ],
      "metadata": {
        "colab": {
          "base_uri": "https://localhost:8080/"
        },
        "id": "uUj6IhK7RjSC",
        "outputId": "4c1f770f-9308-4e91-ffbe-0df399ae66d2"
      },
      "execution_count": null,
      "outputs": [
        {
          "output_type": "stream",
          "name": "stdout",
          "text": [
            "s\n",
            "m\n",
            "m\n",
            "y\n"
          ]
        }
      ]
    },
    {
      "cell_type": "markdown",
      "source": [
        "string "
      ],
      "metadata": {
        "id": "0pLpPX2DsDlt"
      }
    },
    {
      "cell_type": "code",
      "source": [
        "print(\"hello \\n world\")"
      ],
      "metadata": {
        "colab": {
          "base_uri": "https://localhost:8080/"
        },
        "id": "Brzl2N_wsHEx",
        "outputId": "14a7228a-d93e-407f-cb31-edb49ce34bc7"
      },
      "execution_count": null,
      "outputs": [
        {
          "output_type": "stream",
          "name": "stdout",
          "text": [
            "hello \n",
            " world\n"
          ]
        }
      ]
    },
    {
      "cell_type": "markdown",
      "source": [
        "Slicing and indexing in String"
      ],
      "metadata": {
        "id": "mEqFUcG7twVo"
      }
    },
    {
      "cell_type": "code",
      "source": [
        "mystring='Hello World'\n",
        "mystring[0]"
      ],
      "metadata": {
        "colab": {
          "base_uri": "https://localhost:8080/",
          "height": 35
        },
        "id": "BRe8KUTdt0vh",
        "outputId": "8e727f6b-795c-4d9f-a803-569fa7e65d58"
      },
      "execution_count": null,
      "outputs": [
        {
          "output_type": "execute_result",
          "data": {
            "text/plain": [
              "'H'"
            ],
            "application/vnd.google.colaboratory.intrinsic+json": {
              "type": "string"
            }
          },
          "metadata": {},
          "execution_count": 2
        }
      ]
    },
    {
      "cell_type": "code",
      "source": [
        "len(mystring)"
      ],
      "metadata": {
        "colab": {
          "base_uri": "https://localhost:8080/"
        },
        "id": "c9orrkeBufmK",
        "outputId": "9147e1aa-764a-4b3f-821a-00e22af66dd4"
      },
      "execution_count": null,
      "outputs": [
        {
          "output_type": "execute_result",
          "data": {
            "text/plain": [
              "11"
            ]
          },
          "metadata": {},
          "execution_count": 3
        }
      ]
    },
    {
      "cell_type": "code",
      "source": [
        "mystring[-11]"
      ],
      "metadata": {
        "colab": {
          "base_uri": "https://localhost:8080/",
          "height": 35
        },
        "id": "HfAb45okuoRL",
        "outputId": "86b44734-abd3-40ae-ed31-78e280a9e703"
      },
      "execution_count": null,
      "outputs": [
        {
          "output_type": "execute_result",
          "data": {
            "text/plain": [
              "'H'"
            ],
            "application/vnd.google.colaboratory.intrinsic+json": {
              "type": "string"
            }
          },
          "metadata": {},
          "execution_count": 5
        }
      ]
    },
    {
      "cell_type": "code",
      "source": [
        "mystring='abcdefghijk'"
      ],
      "metadata": {
        "id": "XuLwrDd3vJGd"
      },
      "execution_count": null,
      "outputs": []
    },
    {
      "cell_type": "code",
      "source": [
        "mystring[2:]"
      ],
      "metadata": {
        "colab": {
          "base_uri": "https://localhost:8080/",
          "height": 35
        },
        "id": "1uD-xgvsvg5X",
        "outputId": "6692043c-9cde-494d-8213-02cc48bb5e2e"
      },
      "execution_count": null,
      "outputs": [
        {
          "output_type": "execute_result",
          "data": {
            "text/plain": [
              "'cdefghijk'"
            ],
            "application/vnd.google.colaboratory.intrinsic+json": {
              "type": "string"
            }
          },
          "metadata": {},
          "execution_count": 7
        }
      ]
    },
    {
      "cell_type": "code",
      "source": [],
      "metadata": {
        "id": "YIVPX7Fwvt8f"
      },
      "execution_count": null,
      "outputs": []
    },
    {
      "cell_type": "code",
      "source": [
        "x='Hello World'\n",
        "x+\"it is bestiful outside\""
      ],
      "metadata": {
        "colab": {
          "base_uri": "https://localhost:8080/",
          "height": 35
        },
        "id": "jB0QKzJBzg8l",
        "outputId": "15436837-e959-4c96-de78-07bde9d98bf6"
      },
      "execution_count": null,
      "outputs": [
        {
          "output_type": "execute_result",
          "data": {
            "text/plain": [
              "'Hello Worldit is bestiful outside'"
            ],
            "application/vnd.google.colaboratory.intrinsic+json": {
              "type": "string"
            }
          },
          "metadata": {},
          "execution_count": 8
        }
      ]
    },
    {
      "cell_type": "code",
      "source": [
        "x='Hello World'\n"
      ],
      "metadata": {
        "id": "VA0QLDXS1pLA"
      },
      "execution_count": null,
      "outputs": []
    },
    {
      "cell_type": "code",
      "source": [
        "x.upper()"
      ],
      "metadata": {
        "colab": {
          "base_uri": "https://localhost:8080/",
          "height": 35
        },
        "id": "BwNNCs9K14RV",
        "outputId": "eecf5ee9-4bb3-4ab2-906e-33ea7df5c83e"
      },
      "execution_count": null,
      "outputs": [
        {
          "output_type": "execute_result",
          "data": {
            "text/plain": [
              "'HELLO WORLD'"
            ],
            "application/vnd.google.colaboratory.intrinsic+json": {
              "type": "string"
            }
          },
          "metadata": {},
          "execution_count": 10
        }
      ]
    },
    {
      "cell_type": "markdown",
      "source": [
        "11:14PM 08/Feb"
      ],
      "metadata": {
        "id": "bMOCyBAZH7fa"
      }
    },
    {
      "cell_type": "code",
      "source": [
        "name = 'sam'\n",
        "#change into pam\n",
        "last_name= name[1:]\n",
        "name='p'+last_name"
      ],
      "metadata": {
        "id": "CcUxn7unIviy"
      },
      "execution_count": null,
      "outputs": []
    },
    {
      "cell_type": "code",
      "source": [
        "name"
      ],
      "metadata": {
        "id": "kj6cF4-LKLkc",
        "outputId": "be1d002a-17c3-4bdf-f4ba-b1200774e376",
        "colab": {
          "base_uri": "https://localhost:8080/",
          "height": 35
        }
      },
      "execution_count": null,
      "outputs": [
        {
          "output_type": "execute_result",
          "data": {
            "text/plain": [
              "'pam'"
            ],
            "application/vnd.google.colaboratory.intrinsic+json": {
              "type": "string"
            }
          },
          "metadata": {},
          "execution_count": 4
        }
      ]
    }
  ]
}